{
 "cells": [
  {
   "cell_type": "code",
   "execution_count": 2,
   "metadata": {},
   "outputs": [
    {
     "name": "stdout",
     "output_type": "stream",
     "text": [
      "Collecting kaggle\n",
      "  Downloading https://files.pythonhosted.org/packages/c6/78/832b9a9ec6b3baf8ec566e1f0a695f2fd08d2c94a6797257a106304bfc3c/kaggle-1.4.7.1.tar.gz (52kB)\n",
      "Requirement already satisfied: urllib3<1.23.0,>=1.15 in c:\\programdata\\anaconda3\\lib\\site-packages (from kaggle) (1.22)\n",
      "Requirement already satisfied: six>=1.10 in c:\\programdata\\anaconda3\\lib\\site-packages (from kaggle) (1.11.0)\n",
      "Requirement already satisfied: certifi in c:\\programdata\\anaconda3\\lib\\site-packages (from kaggle) (2018.4.16)\n",
      "Requirement already satisfied: python-dateutil in c:\\programdata\\anaconda3\\lib\\site-packages (from kaggle) (2.7.3)\n",
      "Requirement already satisfied: requests in c:\\programdata\\anaconda3\\lib\\site-packages (from kaggle) (2.18.4)\n",
      "Collecting tqdm (from kaggle)\n",
      "  Downloading https://files.pythonhosted.org/packages/79/43/19c9fee28110cd47f73e6bc596394337fe9f3e5825b4de402bbf30b3beb5/tqdm-4.26.0-py2.py3-none-any.whl (43kB)\n",
      "Collecting python-slugify (from kaggle)\n",
      "  Downloading https://files.pythonhosted.org/packages/00/ad/c778a6df614b6217c30fe80045b365bfa08b5dd3cb02e8b37a6d25126781/python-slugify-1.2.6.tar.gz\n",
      "Requirement already satisfied: chardet<3.1.0,>=3.0.2 in c:\\programdata\\anaconda3\\lib\\site-packages (from requests->kaggle) (3.0.4)\n",
      "Requirement already satisfied: idna<2.7,>=2.5 in c:\\programdata\\anaconda3\\lib\\site-packages (from requests->kaggle) (2.6)\n",
      "Collecting Unidecode>=0.04.16 (from python-slugify->kaggle)\n",
      "  Downloading https://files.pythonhosted.org/packages/59/ef/67085e30e8bbcdd76e2f0a4ad8151c13a2c5bce77c85f8cad6e1f16fb141/Unidecode-1.0.22-py2.py3-none-any.whl (235kB)\n",
      "Building wheels for collected packages: kaggle, python-slugify\n",
      "  Running setup.py bdist_wheel for kaggle: started\n",
      "  Running setup.py bdist_wheel for kaggle: finished with status 'done'\n",
      "  Stored in directory: C:\\Users\\paulj\\AppData\\Local\\pip\\Cache\\wheels\\44\\2c\\df\\22a6eeb780c36c28190faef6252b739fdc47145fd87a6642d4\n",
      "  Running setup.py bdist_wheel for python-slugify: started\n",
      "  Running setup.py bdist_wheel for python-slugify: finished with status 'done'\n",
      "  Stored in directory: C:\\Users\\paulj\\AppData\\Local\\pip\\Cache\\wheels\\e3\\65\\da\\2045deea3098ed7471eca0e2460cfbd3fdfe8c1d6fa6fcac92\n",
      "Successfully built kaggle python-slugify\n",
      "Installing collected packages: tqdm, Unidecode, python-slugify, kaggle\n",
      "Successfully installed Unidecode-1.0.22 kaggle-1.4.7.1 python-slugify-1.2.6 tqdm-4.26.0\n"
     ]
    },
    {
     "name": "stderr",
     "output_type": "stream",
     "text": [
      "distributed 1.21.8 requires msgpack, which is not installed.\n",
      "You are using pip version 10.0.1, however version 18.1 is available.\n",
      "You should consider upgrading via the 'python -m pip install --upgrade pip' command.\n"
     ]
    }
   ],
   "source": [
    "!pip install kaggle"
   ]
  },
  {
   "cell_type": "code",
   "execution_count": 5,
   "metadata": {},
   "outputs": [],
   "source": [
    "import pandas as pd\n"
   ]
  },
  {
   "cell_type": "code",
   "execution_count": 3,
   "metadata": {},
   "outputs": [],
   "source": [
    "# download training and test datasets from kaggle CLI\n",
    "#kaggle_creds = pd.read_json('kaggle.json', lines = True)\n",
    "#username, key = kaggle_creds\n",
    "\n",
    "!kaggle competitions download -c ga-customer-revenue-prediction -p ./data/ -q"
   ]
  }
 ],
 "metadata": {
  "kernelspec": {
   "display_name": "Python 3",
   "language": "python",
   "name": "python3"
  },
  "language_info": {
   "codemirror_mode": {
    "name": "ipython",
    "version": 3
   },
   "file_extension": ".py",
   "mimetype": "text/x-python",
   "name": "python",
   "nbconvert_exporter": "python",
   "pygments_lexer": "ipython3",
   "version": "3.6.5"
  }
 },
 "nbformat": 4,
 "nbformat_minor": 2
}
